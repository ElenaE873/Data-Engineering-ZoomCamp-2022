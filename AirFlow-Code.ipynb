{
 "cells": [
  {
   "cell_type": "code",
   "execution_count": null,
   "id": "3bc8c474",
   "metadata": {},
   "outputs": [],
   "source": [
    "#simple DAG definition\n",
    "\n",
    "etl_dag = DAG(\n",
    "    dag_id = 'etl_pipeline',\n",
    "    default_args={\"start_date\": \"YYYY-MM-DD\"}\n",
    ")"
   ]
  },
  {
   "cell_type": "markdown",
   "id": "3f94d237",
   "metadata": {},
   "source": [
    "##### running a task"
   ]
  },
  {
   "cell_type": "code",
   "execution_count": null,
   "id": "ea521a85",
   "metadata": {},
   "outputs": [],
   "source": [
    "#three main arguments\n",
    "airflow run <dag_id> <task_id> <start_date>"
   ]
  },
  {
   "cell_type": "markdown",
   "id": "06e768bf",
   "metadata": {},
   "source": [
    "##### Using DAG to download a file"
   ]
  },
  {
   "cell_type": "code",
   "execution_count": null,
   "id": "ad3e7b45",
   "metadata": {},
   "outputs": [],
   "source": [
    "airflow run example_etl download-file YYYY-MM-DD\n",
    "\n",
    "#example_etl: the DAG example\n",
    "#download-file: the example task\n",
    "#and the start date"
   ]
  },
  {
   "cell_type": "markdown",
   "id": "38bd4e0a",
   "metadata": {},
   "source": [
    "##### defining a DAG"
   ]
  },
  {
   "cell_type": "code",
   "execution_count": null,
   "id": "c2707395",
   "metadata": {},
   "outputs": [],
   "source": [
    "from airflow.models import DAG\n",
    "\n",
    "#create a default dictionary\n",
    "from datetime import datetime\n",
    "default_arguments = {\n",
    "    'owner' : 'id',\n",
    "    'email' : 'email',\n",
    "    'start_date' : datetime(YYYY, MM, DD)\n",
    "}\n",
    "\n",
    "#defining the DAG\n",
    "etl_dag = DAG('etl_workflow', default_args = default_arguments)"
   ]
  },
  {
   "cell_type": "markdown",
   "id": "903ebc1a",
   "metadata": {},
   "source": [
    "#### PythonOperator"
   ]
  },
  {
   "cell_type": "code",
   "execution_count": null,
   "id": "c489401d",
   "metadata": {},
   "outputs": [],
   "source": [
    "from airflow.operators.python_operator import PythonOperator\n",
    "\n",
    "def printme():\n",
    "    print(\"Response\")\n",
    "    \n",
    "#create PythonOperator instance\n",
    "python_task = PythonOperator(\n",
    "    task_id = 'simple_print',\n",
    "    python_callable=printme,\n",
    "    dag=example_dag\n",
    ")"
   ]
  }
 ],
 "metadata": {
  "kernelspec": {
   "display_name": "Python 3 (ipykernel)",
   "language": "python",
   "name": "python3"
  },
  "language_info": {
   "codemirror_mode": {
    "name": "ipython",
    "version": 3
   },
   "file_extension": ".py",
   "mimetype": "text/x-python",
   "name": "python",
   "nbconvert_exporter": "python",
   "pygments_lexer": "ipython3",
   "version": "3.9.7"
  }
 },
 "nbformat": 4,
 "nbformat_minor": 5
}
